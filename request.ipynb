{
 "cells": [
  {
   "cell_type": "code",
   "execution_count": 2,
   "metadata": {},
   "outputs": [],
   "source": [
    "import requests\n",
    "from requests.models import Response\n",
    "from requests.structures import CaseInsensitiveDict\n"
   ]
  },
  {
   "cell_type": "code",
   "execution_count": 12,
   "metadata": {},
   "outputs": [
    {
     "name": "stdout",
     "output_type": "stream",
     "text": [
      "<Response [200]>\n",
      "200\n",
      "{'status': 'OK'}\n",
      "{'Date': 'Sun, 24 Dec 2023 09:49:41 GMT', 'Content-Type': 'application/json; charset=utf-8', 'Content-Length': '15', 'Connection': 'keep-alive', 'x-powered-by': 'Express', 'etag': 'W/\"f-v/Y1JusChTxrQUzPtNAKycooOTA\"'}\n"
     ]
    }
   ],
   "source": [
    "response: Response = requests.get('https://simple-books-api.glitch.me/status')\n",
    "print(response)\n",
    "print(response.status_code)\n",
    "print(response.json())\n",
    "print(response.headers)"
   ]
  },
  {
   "cell_type": "markdown",
   "metadata": {},
   "source": [
    "## Get List of Books"
   ]
  },
  {
   "cell_type": "code",
   "execution_count": 45,
   "metadata": {},
   "outputs": [
    {
     "data": {
      "text/plain": [
       "[{'id': 1, 'name': 'The Russian', 'type': 'fiction', 'available': True},\n",
       " {'id': 2, 'name': 'Just as I Am', 'type': 'non-fiction', 'available': False},\n",
       " {'id': 3, 'name': 'The Vanishing Half', 'type': 'fiction', 'available': True},\n",
       " {'id': 4,\n",
       "  'name': 'The Midnight Library',\n",
       "  'type': 'fiction',\n",
       "  'available': True},\n",
       " {'id': 5, 'name': 'Untamed', 'type': 'non-fiction', 'available': True},\n",
       " {'id': 6,\n",
       "  'name': 'Viscount Who Loved Me',\n",
       "  'type': 'fiction',\n",
       "  'available': True}]"
      ]
     },
     "execution_count": 45,
     "metadata": {},
     "output_type": "execute_result"
    }
   ],
   "source": [
    "import requests\n",
    "\n",
    "def get_all_books():\n",
    "    response = requests.get('https://simple-books-api.glitch.me/books')\n",
    "    res = response.json()\n",
    "    return res\n",
    "    \n",
    "get_all_books()"
   ]
  },
  {
   "cell_type": "markdown",
   "metadata": {},
   "source": [
    "## Get a Single Book"
   ]
  },
  {
   "cell_type": "code",
   "execution_count": 23,
   "metadata": {},
   "outputs": [
    {
     "name": "stdout",
     "output_type": "stream",
     "text": [
      "200\n",
      "{'author': 'James Patterson and James O. Born',\n",
      " 'available': True,\n",
      " 'current-stock': 12,\n",
      " 'id': 1,\n",
      " 'isbn': '1780899475',\n",
      " 'name': 'The Russian',\n",
      " 'price': 12.98,\n",
      " 'type': 'fiction'}\n"
     ]
    }
   ],
   "source": [
    "response: Response = requests.get('https://simple-books-api.glitch.me/books/1')\n",
    "status_code : int = response.status_code\n",
    "print(status_code)\n",
    "json_obj : dict = response.json()\n",
    "pprint.pprint(json_obj)\n"
   ]
  },
  {
   "cell_type": "markdown",
   "metadata": {},
   "source": [
    "## Get Book ID by Name"
   ]
  },
  {
   "cell_type": "code",
   "execution_count": 104,
   "metadata": {},
   "outputs": [
    {
     "data": {
      "text/plain": [
       "1"
      ]
     },
     "execution_count": 104,
     "metadata": {},
     "output_type": "execute_result"
    }
   ],
   "source": [
    "def get_book_id(name):\n",
    "    response = requests.get('https://simple-books-api.glitch.me/books')\n",
    "    res = response.json()\n",
    "\n",
    "    for book in res:\n",
    "        if book['name'] == name:\n",
    "            return book['id']\n",
    "\n",
    "get_book_id(\"The Russian\")\n"
   ]
  },
  {
   "cell_type": "markdown",
   "metadata": {},
   "source": [
    "## Get Price BY Name"
   ]
  },
  {
   "cell_type": "code",
   "execution_count": 102,
   "metadata": {},
   "outputs": [
    {
     "data": {
      "text/plain": [
       "12.98"
      ]
     },
     "execution_count": 102,
     "metadata": {},
     "output_type": "execute_result"
    }
   ],
   "source": [
    "def getprice(name):\n",
    "    bookid = get_book_id(name)\n",
    "    response = requests.get(f\"https://simple-books-api.glitch.me/books/{bookid}\")\n",
    "    res = response.json()\n",
    "    return res['price']\n",
    "\n",
    "getprice(\"The Russian\")"
   ]
  },
  {
   "cell_type": "markdown",
   "metadata": {},
   "source": [
    "## Get Single Book By Name"
   ]
  },
  {
   "cell_type": "code",
   "execution_count": 106,
   "metadata": {},
   "outputs": [
    {
     "data": {
      "text/plain": [
       "{'id': 1,\n",
       " 'name': 'The Russian',\n",
       " 'author': 'James Patterson and James O. Born',\n",
       " 'isbn': '1780899475',\n",
       " 'type': 'fiction',\n",
       " 'price': 12.98,\n",
       " 'current-stock': 12,\n",
       " 'available': True}"
      ]
     },
     "execution_count": 106,
     "metadata": {},
     "output_type": "execute_result"
    }
   ],
   "source": [
    "def get_single_book(name):\n",
    "    bookid = get_book_id(name)\n",
    "    response = requests.get(f\"https://simple-books-api.glitch.me/books/{bookid}\")\n",
    "    res = response.json()\n",
    "    return res\n",
    "\n",
    "get_single_book(\"The Russian\")"
   ]
  },
  {
   "cell_type": "code",
   "execution_count": null,
   "metadata": {},
   "outputs": [],
   "source": []
  }
 ],
 "metadata": {
  "kernelspec": {
   "display_name": "myopenai",
   "language": "python",
   "name": "python3"
  },
  "language_info": {
   "codemirror_mode": {
    "name": "ipython",
    "version": 3
   },
   "file_extension": ".py",
   "mimetype": "text/x-python",
   "name": "python",
   "nbconvert_exporter": "python",
   "pygments_lexer": "ipython3",
   "version": "3.11.5"
  }
 },
 "nbformat": 4,
 "nbformat_minor": 2
}
